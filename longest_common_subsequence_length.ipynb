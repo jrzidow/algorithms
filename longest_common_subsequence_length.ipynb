{
 "cells": [
  {
   "cell_type": "markdown",
   "metadata": {},
   "source": [
    "Dynamic Programming Solution to the length of the longest common subsequence problem. Subsequence defined as longest matching string that can be obtained from deleting chars from string 1, then deleting chars from string 2.\n",
    "\n",
    "The longest common subsequence (LCS) problem is the problem of finding the longest subsequence that is present in given two sequences in the same order. i.e. find a longest sequence which can be obtained from the first original sequence by deleting some items, and from the second original sequence by deleting other items.\n",
    "\n",
    "Runtime: O(mn) where m,n are the lengths of the strings."
   ]
  },
  {
   "cell_type": "code",
   "execution_count": 22,
   "metadata": {},
   "outputs": [
    {
     "name": "stdout",
     "output_type": "stream",
     "text": [
      "[[0. 0. 0. 0. 0. 0. 0.]\n",
      " [0. 0. 0. 0. 1. 1. 1.]\n",
      " [0. 1. 1. 1. 1. 2. 2.]\n",
      " [0. 1. 1. 2. 2. 2. 2.]\n",
      " [0. 1. 1. 2. 2. 3. 3.]\n",
      " [0. 1. 2. 2. 2. 3. 3.]\n",
      " [0. 1. 2. 2. 3. 3. 4.]\n",
      " [0. 1. 2. 2. 3. 4. 4.]] \n",
      "\n",
      "Length of Longest Common Subsequence = 4.0\n"
     ]
    }
   ],
   "source": [
    "import numpy as np\n",
    "        \n",
    "def longest_common_subsequence(a = 'ABCBDAB', b = 'BDCABA'):\n",
    "    table = np.zeros((len(a)+1,len(b)+1)) #Zero padded for initialization\n",
    "    \n",
    "    for i in range(1,table.shape[0]):\n",
    "        for j in range(1,table.shape[1]):\n",
    "            if b[j-1] == a[i-1]:\n",
    "                table[i][j] = 1 + table[i-1][j-1]\n",
    "            else:\n",
    "                table[i][j] = max(table[i-1][j], table[i][j-1])\n",
    "                \n",
    "    return table, table[table.shape[0]-1][table.shape[1]-1]\n",
    "\n",
    "\n",
    "table,lcs = longest_common_subsequence()\n",
    "print(table,'\\n')\n",
    "print('Length of Longest Common Subsequence =', lcs)"
   ]
  },
  {
   "cell_type": "code",
   "execution_count": null,
   "metadata": {
    "collapsed": true
   },
   "outputs": [],
   "source": []
  }
 ],
 "metadata": {
  "kernelspec": {
   "display_name": "Python 3",
   "language": "python",
   "name": "python3"
  },
  "language_info": {
   "codemirror_mode": {
    "name": "ipython",
    "version": 3
   },
   "file_extension": ".py",
   "mimetype": "text/x-python",
   "name": "python",
   "nbconvert_exporter": "python",
   "pygments_lexer": "ipython3",
   "version": "3.6.3"
  }
 },
 "nbformat": 4,
 "nbformat_minor": 2
}
