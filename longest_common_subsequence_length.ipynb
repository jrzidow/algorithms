{
 "cells": [
  {
   "cell_type": "markdown",
   "metadata": {},
   "source": [
    "Dynamic Programming Solution to the longest common subsequence problem. Subsequence defined as longest matching string that can be obtained from deleting chars from string 1, then deleting chars from string 2."
   ]
  },
  {
   "cell_type": "code",
   "execution_count": 14,
   "metadata": {},
   "outputs": [
    {
     "name": "stdout",
     "output_type": "stream",
     "text": [
      "21.7 µs ± 156 ns per loop (mean ± std. dev. of 7 runs, 10000 loops each)\n",
      "[[0. 0. 0. 0. 0. 0. 0.]\n",
      " [0. 0. 0. 0. 1. 1. 1.]\n",
      " [0. 1. 1. 1. 1. 2. 2.]\n",
      " [0. 1. 1. 1. 1. 2. 2.]\n",
      " [0. 1. 1. 1. 2. 2. 3.]] \n",
      "\n",
      "Length of Longest Common Subsequence = 3.0\n"
     ]
    }
   ],
   "source": [
    "import numpy as np\n",
    "        \n",
    "def longest_common_subsequence(a = 'ABCBDAB', b = 'BDCABA'):\n",
    "    table = np.zeros((len(a)+1,len(b)+1)) #Zero padded for initialization\n",
    "\n",
    "    for i in range(1,table.shape[0]):\n",
    "        for j in range(1,table.shape[1]):\n",
    "            if b[j-1] == a[i-1]:\n",
    "                table[i][j] = 1 + table[i-1][j-1]\n",
    "            else:\n",
    "                table[i][j] = max(table[i-1][j], table[i][j-1])\n",
    "                \n",
    "    return table, table[table.shape[0]-1][table.shape[1]-1]\n",
    "\n",
    "%timeit table,lcs = longest_common_subsequence('ABXA', 'BDCABA')\n",
    "print(table,'\\n')\n",
    "print('Length of Longest Common Subsequence =', lcs)"
   ]
  },
  {
   "cell_type": "code",
   "execution_count": null,
   "metadata": {
    "collapsed": true
   },
   "outputs": [],
   "source": []
  }
 ],
 "metadata": {
  "kernelspec": {
   "display_name": "Python 3",
   "language": "python",
   "name": "python3"
  },
  "language_info": {
   "codemirror_mode": {
    "name": "ipython",
    "version": 3
   },
   "file_extension": ".py",
   "mimetype": "text/x-python",
   "name": "python",
   "nbconvert_exporter": "python",
   "pygments_lexer": "ipython3",
   "version": "3.6.3"
  }
 },
 "nbformat": 4,
 "nbformat_minor": 2
}
