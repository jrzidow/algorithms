{
 "cells": [
  {
   "cell_type": "markdown",
   "metadata": {},
   "source": [
    "Dynamic Programming solution to obtain the levenshtein distance between two strings.\n",
    "\n",
    "Runtime: O(mn) where m,n are the lengths of the input strings"
   ]
  },
  {
   "cell_type": "code",
   "execution_count": 9,
   "metadata": {},
   "outputs": [
    {
     "name": "stdout",
     "output_type": "stream",
     "text": [
      "[[0. 1. 2. 3.]\n",
      " [1. 1. 2. 3.]\n",
      " [2. 2. 1. 2.]\n",
      " [3. 3. 2. 1.]\n",
      " [4. 4. 3. 2.]] \n",
      "\n",
      "Levenshtein Distance = 2.0\n"
     ]
    }
   ],
   "source": [
    "import numpy as np\n",
    "        \n",
    "def levenshtein_distance(a = 'jab!', b = 'cab'):\n",
    "    table = np.zeros((len(a)+1,len(b)+1)) #Initialize table\n",
    "    for i in range(table.shape[0]):\n",
    "        table[i,0] = i\n",
    "    for j in range(table.shape[1]):\n",
    "        table[0,j] = j\n",
    "\n",
    "    for i in range(1,table.shape[0]):\n",
    "        for j in range(1,table.shape[1]):\n",
    "            cost = 1\n",
    "            if a[i-1] == b[j-1] and (i-j==0): cost = 0\n",
    "            \n",
    "            table[i,j] = cost + min(table[i-1,j], table[i,j-1], table[i-1,j-1])\n",
    "                \n",
    "    return table, table[table.shape[0]-1][table.shape[1]-1]\n",
    "\n",
    "table,lev_dist = levenshtein_distance()\n",
    "print(table,'\\n')\n",
    "print('Levenshtein Distance =', lev_dist)"
   ]
  },
  {
   "cell_type": "code",
   "execution_count": null,
   "metadata": {
    "collapsed": true
   },
   "outputs": [],
   "source": []
  }
 ],
 "metadata": {
  "kernelspec": {
   "display_name": "Python 3",
   "language": "python",
   "name": "python3"
  },
  "language_info": {
   "codemirror_mode": {
    "name": "ipython",
    "version": 3
   },
   "file_extension": ".py",
   "mimetype": "text/x-python",
   "name": "python",
   "nbconvert_exporter": "python",
   "pygments_lexer": "ipython3",
   "version": "3.6.3"
  }
 },
 "nbformat": 4,
 "nbformat_minor": 2
}
