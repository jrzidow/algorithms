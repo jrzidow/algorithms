{
 "cells": [
  {
   "cell_type": "markdown",
   "metadata": {},
   "source": [
    "Dynamic Programming Solution to 0-1 knapsack problem. \n",
    "<br />-Only one of each item, so no repetitive takes\n",
    "<br />-Weights integers only<br /> \n",
    "\n",
    "Runtime = O(Wn) , where n is the number of items available to put in knapsack and W is weight limit."
   ]
  },
  {
   "cell_type": "code",
   "execution_count": 6,
   "metadata": {},
   "outputs": [
    {
     "name": "stdout",
     "output_type": "stream",
     "text": [
      "[[ 0.  0.  0.  0.  0.  0.  0.  0.  0.  0.  0.]\n",
      " [ 0. 20. 20. 20. 20. 20. 20. 20. 20. 20. 20.]\n",
      " [ 0. 20. 20. 25. 25. 25. 25. 25. 25. 25. 25.]\n",
      " [ 0. 20. 20. 25. 30. 30. 35. 35. 35. 35. 35.]\n",
      " [ 0. 20. 20. 25. 30. 30. 35. 35. 40. 60. 60.]\n",
      " [ 0. 20. 20. 25. 30. 30. 35. 35. 40. 60. 60.]\n",
      " [ 0. 20. 20. 25. 30. 45. 45. 50. 55. 60. 60.]] \n",
      "\n",
      "Max Knapsack Value = 60.0\n"
     ]
    }
   ],
   "source": [
    "import numpy as np\n",
    "        \n",
    "def knapsack(values = [20,5,10,40,15,25],\n",
    "             weights = [1,2,3,8,7,4],\n",
    "             W = 10):\n",
    "    \n",
    "    if len(values) != len(weights):\n",
    "        print('values and weights arrays different lengths')\n",
    "        exit()\n",
    "    \n",
    "    table = np.zeros((len(values)+1,W+1)) #Initialize table\n",
    "\n",
    "    for i in range(1,table.shape[0]):\n",
    "        for j in range(1,table.shape[1]):\n",
    "            \n",
    "            if weights[i-1] > j:\n",
    "                table[i,j] = table[i-1,j]\n",
    "            else:\n",
    "                table[i,j] = max(table[i-1,j], table[i-1,j - weights[i-1]]+values[i-1])\n",
    "                \n",
    "    return table, table[table.shape[0]-1][table.shape[1]-1]\n",
    "\n",
    "\n",
    "\n",
    "table,knapsack_value = knapsack()\n",
    "print(table,'\\n')\n",
    "print('Max Knapsack Value =', knapsack_value)"
   ]
  },
  {
   "cell_type": "code",
   "execution_count": null,
   "metadata": {
    "collapsed": true
   },
   "outputs": [],
   "source": []
  }
 ],
 "metadata": {
  "kernelspec": {
   "display_name": "Python 3",
   "language": "python",
   "name": "python3"
  },
  "language_info": {
   "codemirror_mode": {
    "name": "ipython",
    "version": 3
   },
   "file_extension": ".py",
   "mimetype": "text/x-python",
   "name": "python",
   "nbconvert_exporter": "python",
   "pygments_lexer": "ipython3",
   "version": "3.6.3"
  }
 },
 "nbformat": 4,
 "nbformat_minor": 2
}
