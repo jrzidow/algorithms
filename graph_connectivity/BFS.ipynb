{
 "cells": [
  {
   "cell_type": "markdown",
   "metadata": {},
   "source": [
    "Undirected graph taken from figure 3.2, pg 79 of algorithm design by kleinberg and tardos\n",
    "\n",
    "#Graph File structure:\n",
    "N   {Integer representing number of Vertices in graph}\n",
    "1 3\n",
    "4 2 {edges between vertices, all two way edges}\n",
    "etc.\n"
   ]
  },
  {
   "cell_type": "code",
   "execution_count": 10,
   "metadata": {},
   "outputs": [
    {
     "name": "stdout",
     "output_type": "stream",
     "text": [
      "N = 13 vertices\n",
      "\n",
      "Edge List\n",
      "0: [1, 2]\n",
      "1: [0, 2, 3, 4]\n",
      "2: [0, 1, 6, 7, 4]\n",
      "3: [1, 4]\n",
      "4: [1, 2, 3, 5]\n",
      "5: [4]\n",
      "6: [2, 7]\n",
      "7: [2, 6]\n",
      "8: [9]\n",
      "9: [8]\n",
      "10: [11]\n",
      "11: [10, 12]\n",
      "12: [11]\n"
     ]
    }
   ],
   "source": [
    "import numpy as np\n",
    "\n",
    "def BFS():\n",
    "    print(\"Jakes BFS\")\n",
    "    \n",
    "graph_file='./graph_file'\n",
    "lines = [line.rstrip('\\n') for line in open(graph_file)]\n",
    "N = int(lines[0])\n",
    "del lines[0]\n",
    "print('N =',N,'vertices\\n')\n",
    "edges = [[] for x in range(N)]\n",
    "\n",
    "for x in lines:\n",
    "    splt = x.split()\n",
    "    u = int(splt[0]) - 1  #Make first index zero\n",
    "    v = int(splt[1]) - 1\n",
    "    edges[u].append(v) #undirected graph so all edges two way\n",
    "    edges[v].append(u)\n",
    "    \n",
    "# print formatted edges\n",
    "print('Edge List')\n",
    "for x in range(N):\n",
    "    print(str(x)+':', edges[x])\n",
    "    "
   ]
  },
  {
   "cell_type": "code",
   "execution_count": null,
   "metadata": {
    "collapsed": true
   },
   "outputs": [],
   "source": []
  },
  {
   "cell_type": "code",
   "execution_count": null,
   "metadata": {
    "collapsed": true
   },
   "outputs": [],
   "source": []
  }
 ],
 "metadata": {
  "kernelspec": {
   "display_name": "Python 3",
   "language": "python",
   "name": "python3"
  },
  "language_info": {
   "codemirror_mode": {
    "name": "ipython",
    "version": 3
   },
   "file_extension": ".py",
   "mimetype": "text/x-python",
   "name": "python",
   "nbconvert_exporter": "python",
   "pygments_lexer": "ipython3",
   "version": "3.6.3"
  }
 },
 "nbformat": 4,
 "nbformat_minor": 2
}
