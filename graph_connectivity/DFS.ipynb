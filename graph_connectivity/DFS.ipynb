{
 "cells": [
  {
   "cell_type": "code",
   "execution_count": null,
   "metadata": {
    "collapsed": true
   },
   "outputs": [],
   "source": [
    "def BFS(s = 0):\n",
    "    marked = [s]\n",
    "    queue = [s]\n",
    "    tree = [[] for x in range(N)] #Switch this to actual tree class w/ children nodes etc.\n",
    "    while len(queue) > 0:\n",
    "        curr = queue.pop(0)\n",
    "        #Visit V-- nothing to do since only building BFS tree\n",
    "        for child in edges[curr]:\n",
    "            if child in marked:\n",
    "                continue\n",
    "            marked.append(child)\n",
    "            queue.append(child)\n",
    "            tree[curr].append(child)          \n",
    "    return(tree)\n",
    "\n",
    "#Build edge list from graph_file\n",
    "graph_file='./graph_file'\n",
    "lines = [line.rstrip('\\n') for line in open(graph_file)]\n",
    "N = int(lines[0])\n",
    "del lines[0]\n",
    "print('N =',N,'vertices\\n')\n",
    "edges = [[] for x in range(N)]\n",
    "\n",
    "for x in lines:\n",
    "    splt = x.split()\n",
    "    u = int(splt[0]) - 1  #Make first vertex zero instead of 1\n",
    "    v = int(splt[1]) - 1\n",
    "    edges[u].append(v) #undirected graph so all edges two way\n",
    "    edges[v].append(u)\n",
    "    \n",
    "# print formatted edges\n",
    "print('Graph Edge List')\n",
    "for x in range(N):\n",
    "    print(str(x)+':', edges[x])\n",
    "\n",
    "#Run BFS and print result\n",
    "result = BFS()\n",
    "print('\\n BFS Tree Edge List')\n",
    "for x in range(N):\n",
    "    print(str(x)+':', result[x])\n",
    "    "
   ]
  }
 ],
 "metadata": {
  "kernelspec": {
   "display_name": "Python 3",
   "language": "python",
   "name": "python3"
  },
  "language_info": {
   "codemirror_mode": {
    "name": "ipython",
    "version": 3
   },
   "file_extension": ".py",
   "mimetype": "text/x-python",
   "name": "python",
   "nbconvert_exporter": "python",
   "pygments_lexer": "ipython3",
   "version": "3.6.3"
  }
 },
 "nbformat": 4,
 "nbformat_minor": 2
}
