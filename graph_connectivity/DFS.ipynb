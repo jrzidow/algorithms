{
 "cells": [
  {
   "cell_type": "code",
   "execution_count": 12,
   "metadata": {},
   "outputs": [
    {
     "name": "stdout",
     "output_type": "stream",
     "text": [
      "N = 13 vertices\n",
      "\n",
      "Graph Edge List\n",
      "0: [1, 2]\n",
      "1: [0, 2, 3, 4]\n",
      "2: [0, 1, 6, 7, 4]\n",
      "3: [1, 4]\n",
      "4: [1, 2, 3, 5]\n",
      "5: [4]\n",
      "6: [2, 7]\n",
      "7: [2, 6]\n",
      "8: [9]\n",
      "9: [8]\n",
      "10: [11]\n",
      "11: [10, 12]\n",
      "12: [11]\n",
      "\n",
      "DFS Tree Edge List\n",
      "0: [1]\n",
      "1: [2]\n",
      "2: [6, 4]\n",
      "3: []\n",
      "4: [3, 5]\n",
      "5: []\n",
      "6: [7]\n",
      "7: []\n",
      "8: []\n",
      "9: []\n",
      "10: []\n",
      "11: []\n",
      "12: []\n"
     ]
    }
   ],
   "source": [
    "class node:\n",
    "    def __init__(self, value):\n",
    "        self.value = value\n",
    "        self.mark = False\n",
    "\n",
    "def DFS(s = 0, parent = None):\n",
    "    global vertices, dfs_tree\n",
    "    vertices[s].mark = True\n",
    "    if parent != None:\n",
    "        dfs_tree[parent].append(s)\n",
    "    for edge in edges[s]:\n",
    "        if vertices[edge].mark == False:\n",
    "            DFS(edge, s)\n",
    "\n",
    "\n",
    "#Build edge list from graph_file\n",
    "graph_file='./graph_file'\n",
    "lines = [line.rstrip('\\n') for line in open(graph_file)]\n",
    "N = int(lines[0])\n",
    "del lines[0]\n",
    "print('N =',N,'vertices\\n')\n",
    "\n",
    "edges = [[] for x in range(N)]\n",
    "dfs_tree = [[] for x in range(N)]\n",
    "vertices = [node(x) for x in range(N)]\n",
    "# for x in vertices:\n",
    "#     print(x.value, x.mark)\n",
    "\n",
    "for x in lines:\n",
    "    splt = x.split()\n",
    "    u = int(splt[0]) - 1  #Make first vertex zero instead of 1\n",
    "    v = int(splt[1]) - 1\n",
    "    edges[u].append(v) #undirected graph so all edges two way\n",
    "    edges[v].append(u)\n",
    "    \n",
    "# print formatted edges\n",
    "print('Graph Edge List')\n",
    "for x in range(N):\n",
    "    print(str(x)+':', edges[x])\n",
    "\n",
    "#Run DFS and print result\n",
    "DFS()\n",
    "print('\\nDFS Tree Edge List')\n",
    "for x in range(N):\n",
    "    print(str(x)+':',dfs_tree[x])\n",
    "    "
   ]
  },
  {
   "cell_type": "code",
   "execution_count": null,
   "metadata": {
    "collapsed": true
   },
   "outputs": [],
   "source": []
  }
 ],
 "metadata": {
  "kernelspec": {
   "display_name": "Python 3",
   "language": "python",
   "name": "python3"
  },
  "language_info": {
   "codemirror_mode": {
    "name": "ipython",
    "version": 3
   },
   "file_extension": ".py",
   "mimetype": "text/x-python",
   "name": "python",
   "nbconvert_exporter": "python",
   "pygments_lexer": "ipython3",
   "version": "3.6.3"
  }
 },
 "nbformat": 4,
 "nbformat_minor": 2
}
